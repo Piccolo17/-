{
 "cells": [
  {
   "cell_type": "code",
   "execution_count": 1,
   "metadata": {},
   "outputs": [],
   "source": [
    "import pandas as pd\n",
    "import numpy as np\n",
    "import matplotlib.pyplot as plt\n",
    "plt.rcParams['font.sans-serif'] = 'SimHei'"
   ]
  },
  {
   "cell_type": "code",
   "execution_count": 3,
   "metadata": {},
   "outputs": [
    {
     "data": {
      "text/html": [
       "<div>\n",
       "<style scoped>\n",
       "    .dataframe tbody tr th:only-of-type {\n",
       "        vertical-align: middle;\n",
       "    }\n",
       "\n",
       "    .dataframe tbody tr th {\n",
       "        vertical-align: top;\n",
       "    }\n",
       "\n",
       "    .dataframe thead th {\n",
       "        text-align: right;\n",
       "    }\n",
       "</style>\n",
       "<table border=\"1\" class=\"dataframe\">\n",
       "  <thead>\n",
       "    <tr style=\"text-align: right;\">\n",
       "      <th></th>\n",
       "      <th>price</th>\n",
       "      <th>shopname</th>\n",
       "      <th>comment_num</th>\n",
       "    </tr>\n",
       "  </thead>\n",
       "  <tbody>\n",
       "    <tr>\n",
       "      <th>0</th>\n",
       "      <td>3399.0</td>\n",
       "      <td>ECCO爱步男鞋旗舰店</td>\n",
       "      <td>500+</td>\n",
       "    </tr>\n",
       "    <tr>\n",
       "      <th>1</th>\n",
       "      <td>2999.0</td>\n",
       "      <td>爱步（ECCO）京东自营旗舰店</td>\n",
       "      <td>1000+</td>\n",
       "    </tr>\n",
       "    <tr>\n",
       "      <th>2</th>\n",
       "      <td>2412.0</td>\n",
       "      <td>MORENOSPORTS海外官方旗舰店</td>\n",
       "      <td>1000+</td>\n",
       "    </tr>\n",
       "    <tr>\n",
       "      <th>3</th>\n",
       "      <td>2999.0</td>\n",
       "      <td>爱步（ECCO）京东自营旗舰店</td>\n",
       "      <td>1</td>\n",
       "    </tr>\n",
       "    <tr>\n",
       "      <th>4</th>\n",
       "      <td>1799.0</td>\n",
       "      <td>ECCO爱步男鞋旗舰店</td>\n",
       "      <td>2000+</td>\n",
       "    </tr>\n",
       "  </tbody>\n",
       "</table>\n",
       "</div>"
      ],
      "text/plain": [
       "    price             shopname comment_num\n",
       "0  3399.0          ECCO爱步男鞋旗舰店        500+\n",
       "1  2999.0      爱步（ECCO）京东自营旗舰店       1000+\n",
       "2  2412.0  MORENOSPORTS海外官方旗舰店       1000+\n",
       "3  2999.0      爱步（ECCO）京东自营旗舰店           1\n",
       "4  1799.0          ECCO爱步男鞋旗舰店       2000+"
      ]
     },
     "execution_count": 3,
     "metadata": {},
     "output_type": "execute_result"
    }
   ],
   "source": [
    "df = pd.read_csv(r'D:\\vscode\\download\\test\\test01.csv')\n",
    "df.drop('0',axis = 1,inplace = True) #axis参数默认为0\n",
    "df.columns = ['price','shopname','comment_num']\n",
    "df.head()"
   ]
  },
  {
   "cell_type": "code",
   "execution_count": 4,
   "metadata": {},
   "outputs": [
    {
     "name": "stdout",
     "output_type": "stream",
     "text": [
      "<class 'pandas.core.frame.DataFrame'>\n",
      "RangeIndex: 5999 entries, 0 to 5998\n",
      "Data columns (total 3 columns):\n",
      " #   Column       Non-Null Count  Dtype  \n",
      "---  ------       --------------  -----  \n",
      " 0   price        5999 non-null   float64\n",
      " 1   shopname     5999 non-null   object \n",
      " 2   comment_num  5999 non-null   object \n",
      "dtypes: float64(1), object(2)\n",
      "memory usage: 140.7+ KB\n"
     ]
    }
   ],
   "source": [
    "df.info()"
   ]
  },
  {
   "cell_type": "code",
   "execution_count": 5,
   "metadata": {},
   "outputs": [
    {
     "data": {
      "text/html": [
       "<div>\n",
       "<style scoped>\n",
       "    .dataframe tbody tr th:only-of-type {\n",
       "        vertical-align: middle;\n",
       "    }\n",
       "\n",
       "    .dataframe tbody tr th {\n",
       "        vertical-align: top;\n",
       "    }\n",
       "\n",
       "    .dataframe thead th {\n",
       "        text-align: right;\n",
       "    }\n",
       "</style>\n",
       "<table border=\"1\" class=\"dataframe\">\n",
       "  <thead>\n",
       "    <tr style=\"text-align: right;\">\n",
       "      <th></th>\n",
       "      <th>price</th>\n",
       "    </tr>\n",
       "  </thead>\n",
       "  <tbody>\n",
       "    <tr>\n",
       "      <th>count</th>\n",
       "      <td>5999.000000</td>\n",
       "    </tr>\n",
       "    <tr>\n",
       "      <th>mean</th>\n",
       "      <td>1955.161527</td>\n",
       "    </tr>\n",
       "    <tr>\n",
       "      <th>std</th>\n",
       "      <td>864.399846</td>\n",
       "    </tr>\n",
       "    <tr>\n",
       "      <th>min</th>\n",
       "      <td>69.000000</td>\n",
       "    </tr>\n",
       "    <tr>\n",
       "      <th>25%</th>\n",
       "      <td>1369.000000</td>\n",
       "    </tr>\n",
       "    <tr>\n",
       "      <th>50%</th>\n",
       "      <td>1859.000000</td>\n",
       "    </tr>\n",
       "    <tr>\n",
       "      <th>75%</th>\n",
       "      <td>2399.000000</td>\n",
       "    </tr>\n",
       "    <tr>\n",
       "      <th>max</th>\n",
       "      <td>9319.000000</td>\n",
       "    </tr>\n",
       "  </tbody>\n",
       "</table>\n",
       "</div>"
      ],
      "text/plain": [
       "             price\n",
       "count  5999.000000\n",
       "mean   1955.161527\n",
       "std     864.399846\n",
       "min      69.000000\n",
       "25%    1369.000000\n",
       "50%    1859.000000\n",
       "75%    2399.000000\n",
       "max    9319.000000"
      ]
     },
     "execution_count": 5,
     "metadata": {},
     "output_type": "execute_result"
    }
   ],
   "source": [
    "df.describe()"
   ]
  },
  {
   "attachments": {},
   "cell_type": "markdown",
   "metadata": {},
   "source": [
    "价格分析"
   ]
  },
  {
   "cell_type": "code",
   "execution_count": 27,
   "metadata": {},
   "outputs": [
    {
     "data": {
      "text/plain": [
       "Text(0.5, 1.0, '某电商平台ecco价格一览图1')"
      ]
     },
     "execution_count": 27,
     "metadata": {},
     "output_type": "execute_result"
    },
    {
     "data": {
      "image/png": "[encoded data removed]",
      "text/plain": [
       "<Figure size 432x288 with 1 Axes>"
      ]
     },
     "metadata": {
      "needs_background": "light"
     },
     "output_type": "display_data"
    }
   ],
   "source": [
    "price = df['price'].values.tolist()\n",
    "x = np.arange(0,5999).tolist()\n",
    "plt.bar(x,price,color=['r'])\n",
    "plt.xlabel('产品')\n",
    "plt.ylabel('价格')\n",
    "plt.title('某电商平台ecco价格一览图1')"
   ]
  },
  {
   "cell_type": "code",
   "execution_count": 35,
   "metadata": {},
   "outputs": [
    {
     "data": {
      "text/plain": [
       "Text(0.5, 1.0, '某电商平台ecco价格一览图2')"
      ]
     },
     "execution_count": 35,
     "metadata": {},
     "output_type": "execute_result"
    },
    {
     "data": {
      "image/png": "[encoded data removed]",
      "text/plain": [
       "<Figure size 720x576 with 1 Axes>"
      ]
     },
     "metadata": {
      "needs_background": "light"
     },
     "output_type": "display_data"
    }
   ],
   "source": [
    "plt.figure(figsize=(10,8))\n",
    "n, bins, patches = plt.hist(price, bins=20,color='pink')\n",
    "for i in range(len(n)):\n",
    "    plt.text(bins[i]+(bins[1]-bins[0])/2, n[i]*1.01, int(n[i]), ha='center', va= 'bottom',fontsize=12)\n",
    "plt.grid()\n",
    "plt.xlabel('价格')\n",
    "plt.ylabel('数量')\n",
    "plt.title('某电商平台ecco价格一览图2')\n"
   ]
  },
  {
   "attachments": {},
   "cell_type": "markdown",
   "metadata": {},
   "source": [
    "评论数分析"
   ]
  },
  {
   "cell_type": "code",
   "execution_count": 42,
   "metadata": {},
   "outputs": [
    {
     "data": {
      "text/html": [
       "<div>\n",
       "<style scoped>\n",
       "    .dataframe tbody tr th:only-of-type {\n",
       "        vertical-align: middle;\n",
       "    }\n",
       "\n",
       "    .dataframe tbody tr th {\n",
       "        vertical-align: top;\n",
       "    }\n",
       "\n",
       "    .dataframe thead th {\n",
       "        text-align: right;\n",
       "    }\n",
       "</style>\n",
       "<table border=\"1\" class=\"dataframe\">\n",
       "  <thead>\n",
       "    <tr style=\"text-align: right;\">\n",
       "      <th></th>\n",
       "      <th>price</th>\n",
       "      <th>shopname</th>\n",
       "      <th>comment_num</th>\n",
       "      <th>comment_num_int</th>\n",
       "    </tr>\n",
       "  </thead>\n",
       "  <tbody>\n",
       "    <tr>\n",
       "      <th>6</th>\n",
       "      <td>1999.0</td>\n",
       "      <td>ECCO爱步男鞋旗舰店</td>\n",
       "      <td>5000+</td>\n",
       "      <td>5000</td>\n",
       "    </tr>\n",
       "    <tr>\n",
       "      <th>24</th>\n",
       "      <td>1509.0</td>\n",
       "      <td>Danina海外专营店</td>\n",
       "      <td>5000+</td>\n",
       "      <td>5000</td>\n",
       "    </tr>\n",
       "    <tr>\n",
       "      <th>17</th>\n",
       "      <td>1599.0</td>\n",
       "      <td>ECCO爱步男鞋旗舰店</td>\n",
       "      <td>2000+</td>\n",
       "      <td>2000</td>\n",
       "    </tr>\n",
       "    <tr>\n",
       "      <th>214</th>\n",
       "      <td>1999.0</td>\n",
       "      <td>ECCO爱步男鞋旗舰店</td>\n",
       "      <td>2000+</td>\n",
       "      <td>2000</td>\n",
       "    </tr>\n",
       "    <tr>\n",
       "      <th>64</th>\n",
       "      <td>1999.0</td>\n",
       "      <td>ECCO爱步男鞋旗舰店</td>\n",
       "      <td>2000+</td>\n",
       "      <td>2000</td>\n",
       "    </tr>\n",
       "  </tbody>\n",
       "</table>\n",
       "</div>"
      ],
      "text/plain": [
       "      price     shopname comment_num  comment_num_int\n",
       "6    1999.0  ECCO爱步男鞋旗舰店       5000+             5000\n",
       "24   1509.0  Danina海外专营店       5000+             5000\n",
       "17   1599.0  ECCO爱步男鞋旗舰店       2000+             2000\n",
       "214  1999.0  ECCO爱步男鞋旗舰店       2000+             2000\n",
       "64   1999.0  ECCO爱步男鞋旗舰店       2000+             2000"
      ]
     },
     "execution_count": 42,
     "metadata": {},
     "output_type": "execute_result"
    }
   ],
   "source": [
    "# 评价数转为int类型\n",
    "df['comment_num_int'] = df['comment_num'].apply(lambda x:x.replace(\"万\",\"0000\").replace(\"+\",\"\")).astype(int)\n",
    "comment_num_df = df.sort_values(by=['comment_num_int'],ascending=False)\n",
    "# 评论数中去掉ecco的小物件，即价格小于200人民币\n",
    "comment_price = comment_num_df[comment_num_df['price']>200]\n",
    "comment_price.head()"
   ]
  },
  {
   "cell_type": "code",
   "execution_count": 52,
   "metadata": {},
   "outputs": [
    {
     "name": "stdout",
     "output_type": "stream",
     "text": [
      "      price     shopname comment_num  comment_num_int price_cut\n",
      "6    1999.0  ECCO爱步男鞋旗舰店       5000+             5000         贵\n",
      "24   1509.0  Danina海外专营店       5000+             5000         中\n",
      "17   1599.0  ECCO爱步男鞋旗舰店       2000+             2000         中\n",
      "214  1999.0  ECCO爱步男鞋旗舰店       2000+             2000         贵\n",
      "64   1999.0  ECCO爱步男鞋旗舰店       2000+             2000         贵\n"
     ]
    },
    {
     "name": "stderr",
     "output_type": "stream",
     "text": [
      "<ipython-input-52-db30b211ff0a>:3: SettingWithCopyWarning: \n",
      "A value is trying to be set on a copy of a slice from a DataFrame.\n",
      "Try using .loc[row_indexer,col_indexer] = value instead\n",
      "\n",
      "See the caveats in the documentation: https://pandas.pydata.org/pandas-docs/stable/user_guide/indexing.html#returning-a-view-versus-a-copy\n",
      "  comment_price['price_cut'] = comment_price_cut\n"
     ]
    },
    {
     "data": {
      "text/plain": [
       "price_cut\n",
       "不贵     59967\n",
       "中      96836\n",
       "贵     149355\n",
       "很贵     50347\n",
       "Name: comment_num_int, dtype: int32"
      ]
     },
     "execution_count": 52,
     "metadata": {},
     "output_type": "execute_result"
    }
   ],
   "source": [
    "# 分箱\n",
    "comment_price_cut = pd.cut(comment_price['price'],bins=[200,1369,1859,2399,9319],labels=['不贵','中','贵','很贵'])\n",
    "comment_price['price_cut'] = comment_price_cut\n",
    "print(comment_price.head())\n",
    "# 按分箱累加评论数\n",
    "a = comment_price.groupby(by='price_cut').sum()['comment_num_int']\n",
    "a.head()"
   ]
  },
  {
   "attachments": {},
   "cell_type": "markdown",
   "metadata": {},
   "source": [
    "售货渠道"
   ]
  },
  {
   "cell_type": "code",
   "execution_count": 62,
   "metadata": {},
   "outputs": [
    {
     "name": "stderr",
     "output_type": "stream",
     "text": [
      "<ipython-input-62-4fd71077ebf8>:14: SettingWithCopyWarning: \n",
      "A value is trying to be set on a copy of a slice from a DataFrame.\n",
      "Try using .loc[row_indexer,col_indexer] = value instead\n",
      "\n",
      "See the caveats in the documentation: https://pandas.pydata.org/pandas-docs/stable/user_guide/indexing.html#returning-a-view-versus-a-copy\n",
      "  comment_price['shopname_cut']=df['shopname'].apply(lambda x :judge_type(x))\n"
     ]
    },
    {
     "data": {
      "text/plain": [
       "shopname_cut\n",
       "京东自营        45712\n",
       "无               0\n",
       "海外          87889\n",
       "爱步女鞋旗舰店     68400\n",
       "爱步男鞋旗舰店    154504\n",
       "Name: comment_num_int, dtype: int32"
      ]
     },
     "execution_count": 62,
     "metadata": {},
     "output_type": "execute_result"
    }
   ],
   "source": [
    "# 划分收获渠道为：shopname_list = ['京东自营','爱步男鞋旗舰店','爱步女鞋旗舰店','海外']\n",
    "def judge_type(x):\n",
    "    if '京东自营' in x:\n",
    "        a='京东自营'\n",
    "    elif '爱步男鞋旗舰店' in x:\n",
    "        a='爱步男鞋旗舰店'\n",
    "    elif '爱步女鞋旗舰店' in x:\n",
    "        a='爱步女鞋旗舰店'\n",
    "    elif '海外' in x:\n",
    "        a='海外'\n",
    "    else:\n",
    "        a='无'\n",
    "    return a\n",
    "comment_price['shopname_cut']=df['shopname'].apply(lambda x :judge_type(x))\n",
    "# print(comment_price.head())\n",
    "a = comment_price.groupby(by='shopname_cut').sum()['comment_num_int']\n",
    "a.head()"
   ]
  },
  {
   "attachments": {},
   "cell_type": "markdown",
   "metadata": {},
   "source": [
    "男女鞋子价格区别----以国内旗舰店数据"
   ]
  },
  {
   "cell_type": "code",
   "execution_count": 74,
   "metadata": {},
   "outputs": [
    {
     "name": "stdout",
     "output_type": "stream",
     "text": [
      "贵     302\n",
      "很贵    156\n",
      "中      83\n",
      "不贵     22\n",
      "Name: price_cut, dtype: int64\n",
      "贵     207\n",
      "中     102\n",
      "很贵     78\n",
      "不贵     38\n",
      "Name: price_cut, dtype: int64\n",
      "不贵    1392\n",
      "中     1210\n",
      "很贵    1038\n",
      "贵      930\n",
      "Name: price_cut, dtype: int64\n",
      "贵     203\n",
      "中      70\n",
      "很贵     65\n",
      "不贵      2\n",
      "Name: price_cut, dtype: int64\n"
     ]
    }
   ],
   "source": [
    "# 根据shopname_cut划分四个小dataframe,分别统计评论数和价格区间数\n",
    "a = comment_price.groupby(by='shopname_cut')\n",
    "man_df = a.get_group(\"爱步男鞋旗舰店\")\n",
    "woman_df=a.get_group(\"爱步女鞋旗舰店\")\n",
    "sea_df=a.get_group(\"海外\")\n",
    "self_df=a.get_group(\"京东自营\")\n",
    "def get_more_detail(table):\n",
    "    x = table['price_cut'].value_counts()\n",
    "    return x\n",
    "\n",
    "list = [man_df,woman_df,sea_df,self_df]\n",
    "for i in range(len(list)):\n",
    "    print(get_more_detail(list[i]))"
   ]
  }
 ],
 "metadata": {
  "kernelspec": {
   "display_name": "base",
   "language": "python",
   "name": "python3"
  },
  "language_info": {
   "codemirror_mode": {
    "name": "ipython",
    "version": 3
   },
   "file_extension": ".py",
   "mimetype": "text/x-python",
   "name": "python",
   "nbconvert_exporter": "python",
   "pygments_lexer": "ipython3",
   "version": "3.8.3 (default, Jul  2 2020, 17:30:36) [MSC v.1916 64 bit (AMD64)]"
  },
  "orig_nbformat": 4,
  "vscode": {
   "interpreter": {
    "hash": "a4df7a6600e22bae99e6e8f837be5af686fd7a404512ca9c2620376f38fe7d31"
   }
  }
 },
 "nbformat": 4,
 "nbformat_minor": 2
}
