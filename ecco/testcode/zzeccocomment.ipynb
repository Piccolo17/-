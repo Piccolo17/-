{
 "cells": [
  {
   "cell_type": "code",
   "execution_count": 2,
   "metadata": {},
   "outputs": [
    {
     "name": "stderr",
     "output_type": "stream",
     "text": [
      "<ipython-input-2-7a3402c620ad>:8: DeprecationWarning: find_element_by_* commands are deprecated. Please use find_element() instead\n",
      "  browser.find_element_by_xpath('//*[@id=\"detail\"]/div[1]/ul/li[5]').click()\n"
     ]
    }
   ],
   "source": [
    "from selenium import webdriver\n",
    "import re\n",
    "import time\n",
    "browser = webdriver.Chrome()\n",
    "url = 'https://item.jd.com/10058650800128.html'\n",
    "browser.get(url=url)\n",
    "time.sleep(3)\n",
    "# 点击评价按钮\n",
    "browser.find_element_by_xpath('//*[@id=\"detail\"]/div[1]/ul/li[5]').click()\n",
    "#将滚动条移动到页面的底部\n",
    "time.sleep(3)\n",
    "js=\"var q=document.documentElement.scrollTop=100000\"  \n",
    "browser.execute_script(js)  \n",
    "time.sleep(2)\n",
    "data = browser.page_source"
   ]
  },
  {
   "cell_type": "code",
   "execution_count": 4,
   "metadata": {},
   "outputs": [
    {
     "name": "stdout",
     "output_type": "stream",
     "text": [
      "['外观颜值：太漂亮了吧<br>材质手感：非常柔软细腻柔滑<br>舒适度：非常舒适柔软细腻<br>尺码大小：大小正合适<br>做工细节：非常非常不错?<br>其他特色：减震耐磨透气防滑耐磨透气舒适运动鞋适合', '外观颜值：帅气大方<br>材质手感：很好<br>舒适度：很舒适<br>尺码大小：有点偏大<br>做工细节：没得说<br>其他特色：是正品', '外观颜值：高<br>舒适度：穿了一天，非常舒服，不闷脚<br>尺码大小：皮鞋42，biom这款买的41<br>贵但舒服，值不值自行判断', '鞋子很轻巧，穿着很舒适，总体感觉不错，先穿着看看…之前一直穿ecco的鞋，码字非常合适，不论健步鞋还是皮鞋还是跑鞋，这个就比其他品牌强太多…', '五星好评！ecoo的鞋子皮质真的非常不错，透气性很好。健步系列的鞋子更是舒服得没话说，符合人体工学的设计，鞋底回弹，抓地性能好，适合户外运动，十分满意', '买了好几双了 第一次买这个系列 穿着还比较舒服 整体画面感觉不错 喜欢 外形也还比较好看 穿起来很轻薄 很舒服 夏天的话还是有点热', '同样的鞋子买了两双，自己穿好了后又给自己老爸弄了一双，老爷子也很满意。舒适度没得说，颜值也很高，具备设计感的同时也很沉稳低调。', '非常满意，一直就想买了，终于下定决心，穿上很舒服，皮子非常柔软，很轻便，上脚效果非常好看，继续关注??????', '穿着很舒服，大小合适，比较轻，试了试，还没有出去运动，等运动了再灯分享', '爱步男款新鞋哦哦哦哦哦哦哦哦，很不错的选择，舒适感超强，真是不错的一个朋友，了解一下情况新款鞋子收到了没有任何味道问题了会不会']\n",
      "10\n"
     ]
    }
   ],
   "source": [
    "p_comment = '<p class=\"comment-con\">(.*?)</p>'\n",
    "comment = re.findall(p_comment,data)\n",
    "print(comment)\n",
    "print(len(comment))"
   ]
  },
  {
   "cell_type": "code",
   "execution_count": 46,
   "metadata": {},
   "outputs": [
    {
     "name": "stderr",
     "output_type": "stream",
     "text": [
      "Building prefix dict from the default dictionary ...\n",
      "Dumping model to file cache C:\\Users\\hp\\AppData\\Local\\Temp\\jieba.cache\n",
      "Loading model cost 0.915 seconds.\n",
      "Prefix dict has been built succesfully.\n"
     ]
    },
    {
     "name": "stdout",
     "output_type": "stream",
     "text": [
      "['太漂亮', '舒适度', '正合适', '运动鞋', '舒适度', '没得说', '舒适度', 'biom', '值不值', 'ecco', '强太多', 'ecoo', '透气性', '没话说', '人体工学', '户外运动', '十分满意', '好几双', '第一次', '老爷子', '舒适度', '没得说', '下定决心', '试了试', '哦哦哦', '哦哦哦', '舒适感', '太漂亮', '舒适度', '正合适', '运动鞋', '舒适度', '没得说', '舒适度', 'biom', '值不值', 'ecco', '强太多', 'ecoo', '透气性', '没话说', '人体工学', '户外运动', '十分满意', '好几双', '第一次', '老爷子', '舒适度', '没得说', '下定决心', '试了试', '哦哦哦', '哦哦哦', '舒适感']\n",
      "[('舒适度', 8), ('没得说', 4), ('哦哦哦', 4), ('太漂亮', 2), ('正合适', 2), ('运动鞋', 2), ('biom', 2), ('值不值', 2), ('ecco', 2), ('强太多', 2)]\n"
     ]
    },
    {
     "data": {
      "text/plain": [
       "<wordcloud.wordcloud.WordCloud at 0x18877677850>"
      ]
     },
     "execution_count": 46,
     "metadata": {},
     "output_type": "execute_result"
    }
   ],
   "source": [
    "import jieba\n",
    "import matplotlib.pyplot as plt\n",
    "from wordcloud import WordCloud\n",
    "from collections import Counter\n",
    "# 评论数据\n",
    "comment = ['外观颜值：太漂亮了吧<br>材质手感：非常柔软细腻柔滑<br>舒适度：非常舒适柔软细腻<br>尺码大小：大小正合适<br>做工细节：非常非常不错?<br>其他特色：减震耐磨透气防滑耐磨透气舒适运动鞋适合', '外观颜值：帅气大方<br>材质手感：很好<br>舒适度：很舒适<br>尺码大小：有点偏大<br>做工细节：没得说<br>其他特色：是正品', '外观颜值：高<br>舒适度：穿了一天，非常舒服，不闷脚<br>尺码大小：皮鞋42，biom这款买的41<br>贵但舒服，值不值自行判断', '鞋子很轻巧，穿着很舒适，总体感觉不错，先穿着看看…之前一直穿ecco的鞋，码字非常合适，不论健步鞋还是皮鞋还是跑鞋，这个就比其他品牌强太多…', '五星好评！ecoo的鞋子皮质真的非常不错，透气性很好。健步系列的鞋子更是舒服得没话说，符合人体工学的设计，鞋底回弹，抓地性能好，适合户外运动，十分满意', '买了好几双了 第一次买这个系列 穿着还比较舒服 整体画面感觉不错 喜欢 外形也还比较好看 穿起来很轻薄 很舒服 夏天的话还是有点热', '同样的鞋子买了两双，自己穿好了后又给自己老爸弄了一双，老爷子也很满意。舒适度没得说，颜值也很高，具备设计感的同时也很沉稳低调。', '非常满意，一直就想买了，终于下定决心，穿上很舒服，皮子非常柔软，很轻便，上脚效果非常好看，继续关注??????', '穿着很舒服，大小合适，比较轻，试了试，还没有出去运动，等运动了再灯分享', '爱步男款新鞋哦哦哦哦哦哦哦哦，很不错的选择，舒适感超强，真是不错的一个朋友，了解一下情况新款鞋子收到了没有任何味道问题了会不会']\n",
    "\n",
    "# 评论数据清洗\n",
    "for i in range(len(comment)):\n",
    "    comment[i] = re.sub('<br>',\",\",comment[i])\n",
    "\n",
    "# 评论数据写入txt\n",
    "with open(file =r'D:\\vscode\\download\\test\\test.txt',mode='a') as f1: #意为file文件夹就相当于f1\n",
    "    for i in range(len(comment)):\n",
    "        data = f1.write(comment[i]+'\\n')\n",
    "\t\n",
    "\n",
    "text = open(r'D:\\vscode\\download\\test\\test.txt').read()  # 标明文本路径，打开\n",
    "words = jieba.cut(text)\n",
    "#2.通过for循环来提取words列表中的3个字以上的词语\n",
    "report_words = []\n",
    "for word in words:\n",
    "    if len(word)>=3:\n",
    "        report_words.append(word)  #将3个字以上的词语放入到列表\n",
    "print(report_words)\n",
    "\n",
    "#3.获取打印输出高频词的出现次数\n",
    "result = Counter(report_words).most_common(10)\n",
    "print(result)\n",
    "\n",
    "#4.绘制词云图\n",
    "content = \" \".join(report_words)  #通过join（）函数把列表转换成字符串（通过‘ ’连接表中的元素）\n",
    "wc = WordCloud(font_path='simhei.ttf',background_color='white',width=1000,height=600).generate(content)#字体，simhei是黑体，simhei.ttf是黑体字体文件，背景颜色，宽度，高度。根据刚刚生成的content，generate成词云图\n",
    "wc.to_file(r'D:\\vscode\\download\\test\\词云图.png')#导出为png图片"
   ]
  },
  {
   "attachments": {},
   "cell_type": "markdown",
   "metadata": {},
   "source": [
    "以上是对一个页面的测试"
   ]
  },
  {
   "cell_type": "code",
   "execution_count": 37,
   "metadata": {},
   "outputs": [
    {
     "name": "stderr",
     "output_type": "stream",
     "text": [
      "<ipython-input-37-19b938c99543>:8: DeprecationWarning: find_element_by_* commands are deprecated. Please use find_element() instead\n",
      "  browser.find_element_by_xpath('//*[@id=\"detail\"]/div[1]/ul/li[5]').click()\n",
      "<ipython-input-37-19b938c99543>:33: DeprecationWarning: find_element_by_* commands are deprecated. Please use find_element() instead\n",
      "  browser.find_element_by_xpath('//*[@id=\"comment-0\"]/div[12]/div/div/a['+str(i+3)+']').click()\n"
     ]
    },
    {
     "name": "stdout",
     "output_type": "stream",
     "text": [
      "fail\n"
     ]
    }
   ],
   "source": [
    "from selenium import webdriver\n",
    "import re\n",
    "import time\n",
    "browser = webdriver.Chrome()\n",
    "url = 'https://item.jd.com/10058650800128.html#comment'\n",
    "browser.get(url=url)\n",
    "time.sleep(3)\n",
    "browser.find_element_by_xpath('//*[@id=\"detail\"]/div[1]/ul/li[5]').click()\n",
    "time.sleep(3)\n",
    "all = []\n",
    "for i in range(7):\n",
    "    try:\n",
    "        # browser.find_element_by_xpath('//*[@id=\"detail\"]/div[1]/ul/li[5]').click()\n",
    "\n",
    "        # #将滚动条移动到页面的底部\n",
    "        # js=\"var q=document.documentElement.scrollTop=100000\"  \n",
    "        # browser.execute_script(js)  \n",
    "        # time.sleep(2)\n",
    "\n",
    "        # handles = browser.window_handles #获取当前浏览器的所有窗口句柄\n",
    "        # browser.switch_to.window(handles[-1])  #切换到最新打开的窗口\n",
    "\n",
    "        # 隐式等待，确保动态内容节点被完全加载出来\n",
    "        # browser.implicitly_wait(3)\n",
    "        # # 最大化浏览器窗口，防止内容被遮挡\n",
    "        # browser.maximize_window()\n",
    "\n",
    "        data = browser.page_source\n",
    "        p_comment = '<p class=\"comment-con\">(.*?)</p>'\n",
    "        comment = re.findall(p_comment,data)\n",
    "        all.append(comment)\n",
    "        # 点击下一页\n",
    "        browser.find_element_by_xpath('//*[@id=\"comment-0\"]/div[12]/div/div/a['+str(i+3)+']').click()\n",
    "        time.sleep(3)\n",
    "    except Exception:\n",
    "        print(\"fail\")\n",
    "\n",
    "comment = sum(all,[])"
   ]
  },
  {
   "cell_type": "code",
   "execution_count": 39,
   "metadata": {},
   "outputs": [
    {
     "data": {
      "text/plain": [
       "['外观颜值：太漂亮了吧,材质手感：非常柔软细腻柔滑,舒适度：非常舒适柔软细腻,尺码大小：大小正合适,做工细节：非常非常不错?,其他特色：减震耐磨透气防滑耐磨透气舒适运动鞋适合',\n",
       " '外观颜值：帅气大方,材质手感：很好,舒适度：很舒适,尺码大小：有点偏大,做工细节：没得说,其他特色：是正品',\n",
       " '外观颜值：高,舒适度：穿了一天，非常舒服，不闷脚,尺码大小：皮鞋42，biom这款买的41,贵但舒服，值不值自行判断',\n",
       " '鞋子很轻巧，穿着很舒适，总体感觉不错，先穿着看看…之前一直穿ecco的鞋，码字非常合适，不论健步鞋还是皮鞋还是跑鞋，这个就比其他品牌强太多…',\n",
       " '五星好评！ecoo的鞋子皮质真的非常不错，透气性很好。健步系列的鞋子更是舒服得没话说，符合人体工学的设计，鞋底回弹，抓地性能好，适合户外运动，十分满意',\n",
       " '买了好几双了 第一次买这个系列 穿着还比较舒服 整体画面感觉不错 喜欢 外形也还比较好看 穿起来很轻薄 很舒服 夏天的话还是有点热',\n",
       " '同样的鞋子买了两双，自己穿好了后又给自己老爸弄了一双，老爷子也很满意。舒适度没得说，颜值也很高，具备设计感的同时也很沉稳低调。',\n",
       " '非常满意，一直就想买了，终于下定决心，穿上很舒服，皮子非常柔软，很轻便，上脚效果非常好看，继续关注??????',\n",
       " '穿着很舒服，大小合适，比较轻，试了试，还没有出去运动，等运动了再灯分享',\n",
       " '爱步男款新鞋哦哦哦哦哦哦哦哦，很不错的选择，舒适感超强，真是不错的一个朋友，了解一下情况新款鞋子收到了没有任何味道问题了会不会',\n",
       " '很轻 穿上很舒服 值得购买 爆赞 挺好挺好',\n",
       " '第一次穿爱步感觉非常好，商家尺码推介准确。',\n",
       " '鞋子穿了十多天啦 没有问题 很舒适',\n",
       " '第一次在京东购买爱步，很忐忑的，收到货后感到很满意，',\n",
       " 'ecco的鞋质量真的是非常不错的，全家人都挺喜欢这个牌子，虽然是我第一次在网上购买，但是过程还是非常愉快的。以后会一直支持。',\n",
       " '跟专卖店一样，价格还便宜了好几百。很不错',\n",
       " '总体感觉不错，穿上很舒服',\n",
       " '非常满意，服务上乘。好好?',\n",
       " '做工很好，脚感也不错，重量不大，很轻便，跟爱步别型号的鞋子比稍显硬了些，不过不影响舒适度。活动价买的很合适比商场售价便宜了一些。',\n",
       " '39码，正好，鞋型码数挺正的，参考40码运动鞋，脚感很好，比板鞋舒服多啦，夏天透气性等体验过追加评论',\n",
       " '很轻 穿上很舒服 值得购买 爆赞 挺好挺好',\n",
       " '第一次穿爱步感觉非常好，商家尺码推介准确。',\n",
       " '鞋子穿了十多天啦 没有问题 很舒适',\n",
       " '第一次在京东购买爱步，很忐忑的，收到货后感到很满意，',\n",
       " 'ecco的鞋质量真的是非常不错的，全家人都挺喜欢这个牌子，虽然是我第一次在网上购买，但是过程还是非常愉快的。以后会一直支持。',\n",
       " '跟专卖店一样，价格还便宜了好几百。很不错',\n",
       " '总体感觉不错，穿上很舒服',\n",
       " '非常满意，服务上乘。好好?',\n",
       " '做工很好，脚感也不错，重量不大，很轻便，跟爱步别型号的鞋子比稍显硬了些，不过不影响舒适度。活动价买的很合适比商场售价便宜了一些。',\n",
       " '39码，正好，鞋型码数挺正的，参考40码运动鞋，脚感很好，比板鞋舒服多啦，夏天透气性等体验过追加评论',\n",
       " '一直以来，比较喜欢穿这个牌子的鞋！主要是特点突出，一是穿起来舒服，无论是跑步还是走路都比较舒服，二是看起来比较中规中矩，能在不同场合穿用！这次的款，接触地面略显硬',\n",
       " '物流很快，价格有些贵，应该是正品，尺码感觉比其他爱步鞋偏大一点儿。',\n",
       " '鞋子穿了一个多月，有些心得必须要分享一下，这款鞋的皮子非常娇贵，正常走路，被石头轻轻一划就会破损，跟原先的牦牛皮耐操度差很大。适合很小心的在室内穿，不应该定位为健步鞋，应该定位为室内居家鞋。',\n",
       " '一如既往的好穿，就是女款比较少，建议多设计些新的款式',\n",
       " '一直穿这个牌子的鞋，这双鞋新款漂亮，轻盈穿着舒服，这是第一次在线上购买。',\n",
       " '外观颜值：漂亮,材质手感：穿着舒服',\n",
       " '好看，质量也不错，大小也合适',\n",
       " '东西应该是正品，下次还会继续购买的。',\n",
       " '鞋型不错，轻盈透气舒适。',\n",
       " '价格不便宜，试穿了感觉还可以',\n",
       " '货真价实，物流快捷方便，给力！',\n",
       " '前天拍的3299，结果才两天就降了一百多，还不退差价，咨询客服说是不参与保差价，这是在京东购物最差劲的一次，',\n",
       " '最差的差评',\n",
       " '确定正品，以后还会回购',\n",
       " '物品不错，值得购买，京东点赞',\n",
       " '发货挺快的今天收到了检查一下没什么问题，男款女穿，穿几天试试。',\n",
       " '鞋子还可以吧，就是要发票环节不太愉快，催促多次才开',\n",
       " '穿着太舒服了，不愧为鞋王。',\n",
       " '价格贵，但是穿着舒服，',\n",
       " '此鞋皮面软二颜色不怎么样有邹很不理想。我在别处购的皮面黑亮很结实是进口的。你这产品钱与进口一个价但质量差远了。就对付用了。中国地生产的就是不行?',\n",
       " '超轻，真的，我还以为盒子里没有鞋呢！',\n",
       " '非常非常的好，就是等这白色的等了太久太久了。',\n",
       " '就是没有价格保护服务，刚买了第二天就降价啦',\n",
       " '鞋子不错  特别舒服 而且还很轻  嘎嘎板正 还会回购',\n",
       " '超级好穿，也超级舒服，又买了一双女款的，也很好看',\n",
       " '送人的，质感挺好的，',\n",
       " '这个鞋子怎么和实体店比起来差那么点意思呢',\n",
       " '满意的一次远程购物体验',\n",
       " '宝贝已收到，质量完美！',\n",
       " '收到老公很喜欢',\n",
       " '万万没想到啊！ecco的品控越来越差了，本来想买个鞋王，居然左脚鞋后跟处掉皮，露出了红色纤维线。无语。居然说给我150补偿就算了，真算了吧，我不要你啥补偿，你们好好做好这么品牌吧，抓抓品控吧！换吧！',\n",
       " '鞋子确实好看！',\n",
       " '穿上很舒适',\n",
       " '请大家谨慎购买，我买后一个月出现裂缝开裂问题，这是明显的质量问题，刚开始我以为是开胶，结果仔细一看原来是鞋部整体部分的中间部分开裂，后台客服服务态度一直很好，但是京东自述的三包时间是15内有任何质量问题可以退换，120日只能维修，我从线下专卖店问到的三包退换时间是120日内，真的这次购物体验很差。客服一直说让我寄回去维修或给我维修费，买爱步的鞋是为穿着舒服，不是钱的问题，我需要的好的售后体验，如果这双鞋我穿了两个月以上我也不会要求退换货了，真的是很差的一次购物，以后我也再不会在京东购买爱步的鞋子了。请大家谨慎购买。',\n",
       " '质量堪忧，请谨慎购买，建议还是从实体店买吧，这是我穿一个月后的结果。',\n",
       " '鞋型不错，轻盈透气舒适。',\n",
       " '一如既往的好穿，就是女款比较少，建议多设计些新的款式',\n",
       " '总体感觉不错，穿上很舒服',\n",
       " '买了好几双了 第一次买这个系列 穿着还比较舒服 整体画面感觉不错 喜欢 外形也还比较好看 穿起来很轻薄 很舒服 夏天的话还是有点热']"
      ]
     },
     "execution_count": 39,
     "metadata": {},
     "output_type": "execute_result"
    }
   ],
   "source": [
    "# 评论数据清洗\n",
    "for i in range(len(comment)):\n",
    "    comment[i] = re.sub('<br>',\",\",comment[i])\n",
    "comment"
   ]
  }
 ],
 "metadata": {
  "kernelspec": {
   "display_name": "base",
   "language": "python",
   "name": "python3"
  },
  "language_info": {
   "codemirror_mode": {
    "name": "ipython",
    "version": 3
   },
   "file_extension": ".py",
   "mimetype": "text/x-python",
   "name": "python",
   "nbconvert_exporter": "python",
   "pygments_lexer": "ipython3",
   "version": "3.8.3"
  },
  "orig_nbformat": 4,
  "vscode": {
   "interpreter": {
    "hash": "a4df7a6600e22bae99e6e8f837be5af686fd7a404512ca9c2620376f38fe7d31"
   }
  }
 },
 "nbformat": 4,
 "nbformat_minor": 2
}
