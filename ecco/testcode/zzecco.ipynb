{
 "cells": [
  {
   "cell_type": "code",
   "execution_count": null,
   "metadata": {},
   "outputs": [],
   "source": [
    "from selenium import webdriver\n",
    "import re\n",
    "import time\n",
    "browser = webdriver.Chrome()\n",
    "url = 'https://search.jd.com/Search?keyword=ecco&page=1'\n",
    "browser.get(url=url)\n",
    "time.sleep(3)\n",
    "\n",
    "#将滚动条移动到页面的底部\n",
    "js=\"var q=document.documentElement.scrollTop=100000\"  \n",
    "browser.execute_script(js)  \n",
    "time.sleep(2)\n",
    "\n",
    "# 下滑一次\n",
    "# browser.execute_script('window.scrollTo(0,document.body.scrollHeight)')\n",
    "# for i in range(3):\n",
    "#     browser.execute_script('window.scrollTo(0,document.body.scrollHeight)')\n",
    "#     time.sleep(0.5)\n",
    "\n",
    "\n",
    "# time.sleep(3) #在data = browser.page_source前加sleep，这样可以防止报错\n",
    "data = browser.page_source\n"
   ]
  },
  {
   "cell_type": "code",
   "execution_count": 3,
   "metadata": {},
   "outputs": [
    {
     "name": "stdout",
     "output_type": "stream",
     "text": [
      "['2599.00', '3399.00', '2399.00', '2412.00', '2999.00', '2199.00', '2999.00', '2999.00', '1999.00', '1999.00', '2999.00', '1999.00', '2399.00', '2399.00', '2199.00', '2199.00', '1999.00', '1799.00', '1799.00', '1799.00', '1799.00', '1999.00', '2199.00', '2599.00', '2199.00', '2199.00', '2399.00', '2399.00', '2399.00', '3199.00', '1509.00', '1999.00', '2199.00', '1999.00', '1999.00', '2199.00', '2799.00', '3599.00', '2799.00', '2599.00', '2399.00', '1699.00', '2399.00', '2399.00', '2199.00', '2399.00', '2593.00', '2399.00', '2999.00', '2199.00', '1999.00', '1999.00', '1509.00', '1725.00', '2199.00', '1999.00', '2199.00', '1999.00', '1599.00', '1599.00']\n",
      "60\n"
     ]
    }
   ],
   "source": [
    "p_price = '<i data-price=\".*?\">(.*?)</i>'\n",
    "price = re.findall(p_price,data)\n",
    "print(price)\n",
    "print(len(price))"
   ]
  },
  {
   "cell_type": "code",
   "execution_count": 2,
   "metadata": {},
   "outputs": [
    {
     "name": "stdout",
     "output_type": "stream",
     "text": [
      "['ECCO爱步男鞋旗舰店', 'ECCO爱步男鞋旗舰店', '爱步（ECCO）京东自营旗舰店', 'MORENOSPORTS海外官方旗舰店', '爱步（ECCO）京东自营旗舰店', 'ECCO爱步男鞋旗舰店', 'ECCO爱步男鞋旗舰店', '爱步（ECCO）京东自营旗舰店', 'ECCO爱步男鞋旗舰店', '爱步（ECCO）京东自营旗舰店', 'ECCO爱步男鞋旗舰店', 'ECCO爱步男鞋旗舰店', '爱步（ECCO）京东自营旗舰店', '爱步（ECCO）京东自营旗舰店', 'ECCO爱步男鞋旗舰店', 'ECCO爱步男鞋旗舰店', 'ECCO爱步男鞋旗舰店', 'ECCO爱步男鞋旗舰店', 'ECCO爱步女鞋旗舰店', 'ECCO爱步男鞋旗舰店', 'ECCO爱步男鞋旗舰店', 'ECCO爱步男鞋旗舰店', 'ECCO爱步女鞋旗舰店', 'ECCO爱步男鞋旗舰店', 'ECCO爱步女鞋旗舰店', 'ECCO爱步男鞋旗舰店', '爱步（ECCO）京东自营旗舰店', '爱步（ECCO）京东自营旗舰店', '爱步（ECCO）京东自营旗舰店', 'ECCO爱步女鞋旗舰店', 'oneshoes海外官方旗舰店', 'ECCO爱步男鞋旗舰店', '爱步（ECCO）京东自营旗舰店', 'ECCO爱步男鞋旗舰店', 'ECCO爱步男鞋旗舰店', '爱步（ECCO）京东自营旗舰店', 'ECCO爱步男鞋旗舰店', 'ECCO爱步男鞋旗舰店', 'ECCO爱步男鞋旗舰店', 'ECCO爱步男鞋旗舰店', '爱步（ECCO）京东自营旗舰店', 'Miss Meredith海外旗舰店', 'ECCO爱步男鞋旗舰店', '爱步（ECCO）京东自营旗舰店', 'ECCO爱步男鞋旗舰店', '爱步（ECCO）京东自营旗舰店', 'Miss Meredith海外旗舰店', '爱步（ECCO）京东自营旗舰店', '爱步（ECCO）京东自营旗舰店', 'ECCO爱步女鞋旗舰店', '爱步（ECCO）京东自营旗舰店', 'Danina海外专营店', 'oneshoes海外官方旗舰店', 'Danina海外专营店', '爱步（ECCO）京东自营旗舰店', 'ECCO爱步男鞋旗舰店', 'ECCO爱步男鞋旗舰店', 'ECCO爱步男鞋旗舰店', 'ECCO爱步女鞋旗舰店', '爱步（ECCO）京东自营旗舰店']\n",
      "60\n"
     ]
    }
   ],
   "source": [
    "p_shopname='<a target=\"_blank\" class=\"curr-shop hd-shopname\" onclick=\"searchlog.*?\" href=\".*?\" title=\".*?\">(.*?)</a>'\n",
    "shopname = re.findall(p_shopname,data)\n",
    "print(shopname)\n",
    "print(len(shopname))"
   ]
  },
  {
   "cell_type": "code",
   "execution_count": 6,
   "metadata": {},
   "outputs": [
    {
     "name": "stdout",
     "output_type": "stream",
     "text": [
      "['200+', '500+', '200+', '1000+', '1', '1000+', '500+', '1000+', '5000+', '1000+', '500+', '500+', '100+', '100+', '500+', '500+', '2000+', '1000+', '500+', '200+', '2000+', '1000+', '200+', '200+', '82', '200+', '12', '500+', '200+', '1000+', '1000+', '200+', '200+', '200+', '200+', '500+', '200+', '100+', '100+', '500+', '200+', '100+', '200+', '500+', '1000+', '12', '1000+', '100+', '1000+', '200+', '500+', '100+', '1000+', '500+', '100+', '100+', '100+', '200+', '2000+', '500+']\n",
      "60\n"
     ]
    }
   ],
   "source": [
    "p_comment_num = '<a id=\".*?\" target=\"_blank\" href=\".*?\" onclick=\"searchlog.*?;\">(.*?)</a>'\n",
    "comment_num = re.findall(p_comment_num,data)\n",
    "print(comment_num)\n",
    "print(len(comment_num))"
   ]
  }
 ],
 "metadata": {
  "kernelspec": {
   "display_name": "base",
   "language": "python",
   "name": "python3"
  },
  "language_info": {
   "codemirror_mode": {
    "name": "ipython",
    "version": 3
   },
   "file_extension": ".py",
   "mimetype": "text/x-python",
   "name": "python",
   "nbconvert_exporter": "python",
   "pygments_lexer": "ipython3",
   "version": "3.8.3 (default, Jul  2 2020, 17:30:36) [MSC v.1916 64 bit (AMD64)]"
  },
  "orig_nbformat": 4,
  "vscode": {
   "interpreter": {
    "hash": "a4df7a6600e22bae99e6e8f837be5af686fd7a404512ca9c2620376f38fe7d31"
   }
  }
 },
 "nbformat": 4,
 "nbformat_minor": 2
}
